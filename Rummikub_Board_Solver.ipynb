{
  "nbformat": 4,
  "nbformat_minor": 0,
  "metadata": {
    "colab": {
      "name": "Rummikub Board Solver",
      "provenance": [],
      "authorship_tag": "ABX9TyMhfeDdgwxUMSP25jtRjUAD",
      "include_colab_link": true
    },
    "kernelspec": {
      "name": "python3",
      "display_name": "Python 3"
    },
    "accelerator": "GPU"
  },
  "cells": [
    {
      "cell_type": "markdown",
      "metadata": {
        "id": "view-in-github",
        "colab_type": "text"
      },
      "source": [
        "<a href=\"https://colab.research.google.com/github/emo7bf/rummikubSolver/blob/master/Rummikub_Board_Solver.ipynb\" target=\"_parent\"><img src=\"https://colab.research.google.com/assets/colab-badge.svg\" alt=\"Open In Colab\"/></a>"
      ]
    },
    {
      "cell_type": "markdown",
      "metadata": {
        "id": "HXE03_hGhwGW",
        "colab_type": "text"
      },
      "source": [
        "Rummikub Solver"
      ]
    },
    {
      "cell_type": "code",
      "metadata": {
        "id": "jW0pohKLhqMB",
        "colab_type": "code",
        "outputId": "c199bcd8-c05b-41f0-e2fe-66b0d9cfb3b5",
        "colab": {
          "base_uri": "https://localhost:8080/",
          "height": 156
        }
      },
      "source": [
        "try:\n",
        "    from google.colab import drive\n",
        "    drive.mount('/content/drive', force_remount=True)\n",
        "    COLAB = True\n",
        "    print(\"Note: using Google CoLab\")\n",
        "    %tensorflow_version 2.x\n",
        "except:\n",
        "    print(\"Note: not using Google CoLab\")\n",
        "    COLAB = False\n",
        "\n",
        "import base64\n",
        "import os\n",
        "import numpy as np\n",
        "import pandas as pd\n",
        "import requests\n",
        "from scipy.stats import zscore\n",
        "from tensorflow.keras.models import Sequential\n",
        "from tensorflow.keras.layers import Dense, Activation\n",
        "import pandas as pd\n",
        "import io\n",
        "import requests\n",
        "import numpy as np\n",
        "from scipy import signal\n",
        "from sklearn import metrics\n",
        "from matplotlib import pyplot as plt\n",
        "\n"
      ],
      "execution_count": 0,
      "outputs": [
        {
          "output_type": "stream",
          "text": [
            "Go to this URL in a browser: https://accounts.google.com/o/oauth2/auth?client_id=947318989803-6bn6qk8qdgf4n4g3pfee6491hc0brc4i.apps.googleusercontent.com&redirect_uri=urn%3aietf%3awg%3aoauth%3a2.0%3aoob&response_type=code&scope=email%20https%3a%2f%2fwww.googleapis.com%2fauth%2fdocs.test%20https%3a%2f%2fwww.googleapis.com%2fauth%2fdrive%20https%3a%2f%2fwww.googleapis.com%2fauth%2fdrive.photos.readonly%20https%3a%2f%2fwww.googleapis.com%2fauth%2fpeopleapi.readonly\n",
            "\n",
            "Enter your authorization code:\n",
            "··········\n",
            "Mounted at /content/drive\n",
            "Note: using Google CoLab\n",
            "TensorFlow 2.x selected.\n"
          ],
          "name": "stdout"
        }
      ]
    },
    {
      "cell_type": "code",
      "metadata": {
        "id": "7D5lcJDpj3pW",
        "colab_type": "code",
        "outputId": "d5fb74ba-04fd-431e-83e8-4382e840bb9d",
        "colab": {
          "base_uri": "https://localhost:8080/",
          "height": 544
        }
      },
      "source": [
        "import numpy as np\n",
        "class boardState: #user never interacts with the node class\n",
        "  # _ids = count(0)\n",
        "\n",
        "  def __init__(self):\n",
        "    # self.id = next(self._ids)\n",
        "    \n",
        "    # Every game starts out with a blank board, with no wilds and no tiles out\n",
        "    self.board =  np.array(  [[0]*4]*13 )\n",
        "    self.wild = 0\n",
        "\n",
        "    # Eligible tiles to be drawn are: four different colors, numbers 1 thru 13, two of each, and two wild tiles\n",
        "    self.todraw = [(0, 0)]*(4*2*13 + 2)\n",
        "\n",
        "    print( len(self.todraw) )\n",
        "\n",
        "  def showboard(self):\n",
        "    plt.imshow(self.board, interpolation='nearest')\n",
        "    plt.show()\n",
        "\n",
        "  # Creates a random board state\n",
        "  def randomPopulate(self):\n",
        "    self.board = np.random.randint(3, size=(13, 4))\n",
        "\n",
        "  def makeMatches(self):\n",
        "    b = self.board\n",
        "    # There are a finite number of different options for each number:\n",
        "    # [order doesn't matter here]\n",
        "    # 0 0 0 0  -- 0\n",
        "    # 1 0 0 0  -- 1\n",
        "    # 1 1 0 0  -- 2\n",
        "    # 1 1 1 0  -- 0 (3)\n",
        "    # 1 1 1 1  -- 0 (1) (4)\n",
        "\n",
        "    # 2 0 0 0  -- 2\n",
        "    # 2 1 0 0  -- 3\n",
        "    # 2 2 0 0  -- 4\n",
        "    # 2 1 1 0  -- 1 (4)\n",
        "    # 2 2 1 0  -- 2 (5)\n",
        "    # 2 2 2 0  -- 0 (3) (6)\n",
        "    # 2 1 1 1  -- 1 (2) (5)\n",
        "    # 2 2 1 1  -- 0 (2) (3) (6) \n",
        "    # 2 2 2 1  -- 0 (1) (3) (4) (7)\n",
        "\n",
        "\n",
        "    # k1 = np.array( [[-0.5, 1, -0.5, 0]] )\n",
        "    # sols1 = signal.convolve(k1, self.board)\n",
        "    \n",
        "\n",
        "\n",
        "    tf = (b > 0)\n",
        "    k2 = np.array( [[1, 0, 0, 0]]*3 )\n",
        "    display(k2)\n",
        "    sols2 = signal.convolve( k2, tf )\n",
        "    display( tf )\n",
        "    display(sols2[:,1])\n",
        "    \n",
        "    # # Find the \"marginals\"\n",
        "\n",
        "    # matches =  np.matmul( (b > 0), [1, 1, 1, 1] )\n",
        "\n",
        "    # # or\n",
        "\n",
        "    # subtract = b - [[1, 1, 1, 1]]*13\n",
        "    # horzMatch = ( subtract >= 0 )\n",
        "\n",
        "    # horzMarg = np.sum(horzMatch, axis=1)\n",
        "    # display( (horzMarg == 3)*1 )\n",
        "    # display( (horzMarg == 4)*1 )\n",
        "    # plt.imshow(b, interpolation='nearest')\n",
        "    # plt.show()\n",
        "    \n",
        "    # plt.imshow((sols2 == 0), interpolation='nearest')\n",
        "    # plt.show()\n",
        "\n",
        "    # plt.imshow(( (sols1 == 0) * (sols2 == 0) ), interpolation='nearest')\n",
        "    # plt.show()\n",
        "\n",
        "\n",
        "\n",
        "  def __repr__(self):\n",
        "        return str(self.board)\n",
        "        # return \"( W: {0}, wt: {1}, inc: {2} )\".format(self.W, self.wt, self.inc)\n",
        "\n",
        "  def __str__(self):\n",
        "        return str(self.board)\n",
        "\n",
        "b = boardState()\n",
        "b.randomPopulate()\n",
        "display(b)\n",
        "b.makeMatches()\n",
        "# b.showboard()\n"
      ],
      "execution_count": 0,
      "outputs": [
        {
          "output_type": "stream",
          "text": [
            "106\n"
          ],
          "name": "stdout"
        },
        {
          "output_type": "display_data",
          "data": {
            "text/plain": [
              "[[2 2 0 1]\n",
              " [2 1 0 2]\n",
              " [1 1 2 2]\n",
              " [0 2 2 2]\n",
              " [0 1 1 1]\n",
              " [2 0 1 1]\n",
              " [2 2 0 2]\n",
              " [2 2 0 1]\n",
              " [2 2 2 1]\n",
              " [0 2 0 1]\n",
              " [1 2 0 1]\n",
              " [0 2 1 2]\n",
              " [2 1 0 2]]"
            ]
          },
          "metadata": {
            "tags": []
          }
        },
        {
          "output_type": "display_data",
          "data": {
            "text/plain": [
              "array([[1, 0, 0, 0],\n",
              "       [1, 0, 0, 0],\n",
              "       [1, 0, 0, 0]])"
            ]
          },
          "metadata": {
            "tags": []
          }
        },
        {
          "output_type": "display_data",
          "data": {
            "text/plain": [
              "array([[ True,  True, False,  True],\n",
              "       [ True,  True, False,  True],\n",
              "       [ True,  True,  True,  True],\n",
              "       [False,  True,  True,  True],\n",
              "       [False,  True,  True,  True],\n",
              "       [ True, False,  True,  True],\n",
              "       [ True,  True, False,  True],\n",
              "       [ True,  True, False,  True],\n",
              "       [ True,  True,  True,  True],\n",
              "       [False,  True, False,  True],\n",
              "       [ True,  True, False,  True],\n",
              "       [False,  True,  True,  True],\n",
              "       [ True,  True, False,  True]])"
            ]
          },
          "metadata": {
            "tags": []
          }
        },
        {
          "output_type": "display_data",
          "data": {
            "text/plain": [
              "array([1, 2, 3, 3, 3, 2, 2, 2, 3, 3, 3, 3, 3, 2, 1])"
            ]
          },
          "metadata": {
            "tags": []
          }
        }
      ]
    }
  ]
}